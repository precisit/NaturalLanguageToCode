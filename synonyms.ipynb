{
 "cells": [
  {
   "cell_type": "code",
   "execution_count": null,
   "outputs": [],
   "source": [
    "import nltk\n",
    "import gensim\n",
    "from tensorflow import keras\n",
    "from nltk.corpus import treebank\n",
    "from nltk.tokenize import word_tokenize\n",
    "from gensim.test.utils import common_texts\n",
    "import pickle\n",
    "\n",
    ", get_tmpfile\n",
    "from gensim.models import Word2Vec#model = Word2Vec.load(path/to/your/model)\n",
    "import gensim.downloader as api\n",
    "#====INITIALIZE ========\n",
    "def untagger(tagged_sentences):\n",
    "    X = []\n",
    "    for pos_tags in tagged_sentences:\n",
    "                X.append(untag(pos_tags))\n",
    "    return X\n",
    "\n",
    "def untag(tagged_sentence):\n",
    "    return [w for w, _ in tagged_sentence]\n",
    "\n",
    "nltk.download('treebank')\n",
    "sentences = treebank.tagged_sents(tagset='universal')\n",
    "sentences = sentences[:len(sentences)]\n",
    "input= untagger(sentences)\n",
    "corpus = api.load('text8')\n",
    "print(len(input))"
   ],
   "metadata": {
    "collapsed": false,
    "pycharm": {
     "name": "#%%\n"
    }
   }
  },
  {
   "cell_type": "code",
   "execution_count": null,
   "outputs": [],
   "source": [
    "path = get_tmpfile(\"word2vec.model\")\n",
    "#model = gensim.models.Word2Vec(input, min_count=1)\n",
    "model = Word2Vec(corpus)\n",
    "#model.train(sentences, total_examples=1, epochs=3)\n",
    "model.save(\"word2vec.model\")"
   ],
   "metadata": {
    "collapsed": false,
    "pycharm": {
     "name": "#%%\n"
    }
   }
  },
  {
   "cell_type": "code",
   "execution_count": null,
   "outputs": [],
   "source": [
    "model = Word2Vec.load('word2vec.model')\n",
    "model.wv.similarity('go', 'walk')\n",
    "#model.most_similar('two')\n",
    "\n"
   ],
   "metadata": {
    "collapsed": false,
    "pycharm": {
     "name": "#%%\n"
    }
   }
  }
 ],
 "metadata": {
  "language_info": {
   "codemirror_mode": {
    "name": "ipython",
    "version": 2
   },
   "file_extension": ".py",
   "mimetype": "text/x-python",
   "name": "python",
   "nbconvert_exporter": "python",
   "pygments_lexer": "ipython2",
   "version": "2.7.6"
  },
  "kernelspec": {
   "name": "python3",
   "language": "python",
   "display_name": "Python 3"
  },
  "pycharm": {
   "stem_cell": {
    "cell_type": "raw",
    "source": [],
    "metadata": {
     "collapsed": false
    }
   }
  }
 },
 "nbformat": 4,
 "nbformat_minor": 0
}