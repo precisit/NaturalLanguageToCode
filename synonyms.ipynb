{
 "cells": [
  {
   "cell_type": "code",
   "execution_count": 2,
   "outputs": [
    {
     "name": "stderr",
     "text": [
      "[nltk_data] Downloading package treebank to\n[nltk_data]     C:\\Users\\desse\\AppData\\Roaming\\nltk_data...\n",
      "[nltk_data]   Package treebank is already up-to-date!\n"
     ],
     "output_type": "stream"
    },
    {
     "name": "stdout",
     "text": [
      "3914\n"
     ],
     "output_type": "stream"
    }
   ],
   "source": [
    "import nltk\n",
    "import gensim\n",
    "from tensorflow import keras\n",
    "from nltk.corpus import treebank\n",
    "from nltk.tokenize import word_tokenize\n",
    "from gensim.test.utils import common_texts, get_tmpfile\n",
    "from gensim.models import Word2Vec\n",
    "import gensim.downloader as api\n",
    "#====INITIALIZE ========\n",
    "def untagger(tagged_sentences):\n",
    "    X = []\n",
    "    for pos_tags in tagged_sentences:\n",
    "                X.append(untag(pos_tags))\n",
    "    return X\n",
    "\n",
    "def untag(tagged_sentence):\n",
    "    return [w for w, _ in tagged_sentence]\n",
    "\n",
    "nltk.download('treebank')\n",
    "sentences = treebank.tagged_sents()\n",
    "sentences = sentences[:len(sentences)]\n",
    "input= untagger(sentences)\n",
    "corpus = api.load('text8')\n",
    "print(len(input))"
   ],
   "metadata": {
    "collapsed": false,
    "pycharm": {
     "name": "#%%\n",
     "is_executing": false
    }
   }
  },
  {
   "cell_type": "code",
   "execution_count": 3,
   "outputs": [],
   "source": [
    "path = get_tmpfile(\"word2vec.model\")\n",
    "model = Word2Vec(corpus)\n",
    "model.save(\"word2vec.model\")"
   ],
   "metadata": {
    "collapsed": false,
    "pycharm": {
     "name": "#%%\n",
     "is_executing": false
    }
   }
  },
  {
   "cell_type": "code",
   "execution_count": 4,
   "outputs": [
    {
     "name": "stderr",
     "text": [
      "D:\\Anaconda3\\lib\\site-packages\\ipykernel_launcher.py:3: DeprecationWarning: Call to deprecated `most_similar` (Method will be removed in 4.0.0, use self.wv.most_similar() instead).\n  This is separate from the ipykernel package so we can avoid doing imports until\n"
     ],
     "output_type": "stream"
    },
    {
     "data": {
      "text/plain": "[('three', 0.9142040610313416),\n ('four', 0.9005710482597351),\n ('five', 0.8932206630706787),\n ('zero', 0.8726708889007568),\n ('six', 0.8343766927719116),\n ('one', 0.7962507009506226),\n ('seven', 0.7523283958435059),\n ('eight', 0.7197694778442383),\n ('nine', 0.6769245862960815),\n ('sept', 0.6740207672119141)]"
     },
     "metadata": {},
     "output_type": "execute_result",
     "execution_count": 4
    }
   ],
   "source": [
    "model = Word2Vec.load('word2vec.model')\n",
    "model.wv.similarity('go', 'walk')\n",
    "model.most_similar('two')\n",
    "\n"
   ],
   "metadata": {
    "collapsed": false,
    "pycharm": {
     "name": "#%%\n",
     "is_executing": false
    }
   }
  }
 ],
 "metadata": {
  "language_info": {
   "codemirror_mode": {
    "name": "ipython",
    "version": 2
   },
   "file_extension": ".py",
   "mimetype": "text/x-python",
   "name": "python",
   "nbconvert_exporter": "python",
   "pygments_lexer": "ipython2",
   "version": "2.7.6"
  },
  "kernelspec": {
   "name": "python3",
   "language": "python",
   "display_name": "Python 3"
  },
  "pycharm": {
   "stem_cell": {
    "cell_type": "raw",
    "source": [],
    "metadata": {
     "collapsed": false
    }
   }
  }
 },
 "nbformat": 4,
 "nbformat_minor": 0
}